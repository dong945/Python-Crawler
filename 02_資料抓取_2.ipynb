{
 "cells": [
  {
   "cell_type": "code",
   "execution_count": 1,
   "metadata": {},
   "outputs": [
    {
     "data": {
      "text/plain": [
       "85"
      ]
     },
     "execution_count": 1,
     "metadata": {},
     "output_type": "execute_result"
    }
   ],
   "source": [
    "import requests\n",
    "from bs4 import BeautifulSoup\n",
    "\n",
    "# txtYEAR = \"2019\"\n",
    "# txtMONTH = \"01\"\n",
    "# txtGROUPID = \"EUCA000500\"\n",
    "# url=\"https://www.sitca.org.tw/ROC/Industry/IN2422.aspx?txtYEAR=2019&txtMONTH=01&txtGROUPID=EUCA000500\"\n",
    "# url=\"https://www.sitca.org.tw/ROC/Industry/IN2422.aspx?txtYEAR=\"+txtYEAR+\"&txtMONTH=\"+txtMONTH+\"&txtGROUPID=\"+txtGROUPID\n",
    "url_params = {'txtYEAR':'2019', 'txtMONTH':'01', 'txtGROUPID':'EUCA000500'}\n",
    "url_headers = {\"user-agent\": \"Mozilla/5.0 (Windows NT 10.0; Win64; x64) AppleWebKit/537.36 (KHTML, like Gecko) Chrome/72.0.3626.119 Safari/537.36\"}\n",
    "url = \"https://www.sitca.org.tw/ROC/Industry/IN2422.aspx\"\n",
    "r = requests.get(url, headers = url_headers, params = url_params)\n",
    "r.encoding = \"utf8\"\n",
    "soup = BeautifulSoup(r.text, \"lxml\")\n",
    "Trs = soup.find_all(\"tr\", attrs={\"class\":[\"DTeven\",\"DTodd\"]})\n",
    "len(Trs)"
   ]
  },
  {
   "cell_type": "code",
   "execution_count": 2,
   "metadata": {},
   "outputs": [
    {
     "name": "stdout",
     "output_type": "stream",
     "text": [
      "<tr class=\"DTeven\">\n",
      "<td style=\"text-align:Center;\"><input id=\"MN0P00000AMY\" name=\"MN0P00000AMY\" onclick='SaveCheck(\"0P00000AMY\");' type=\"checkbox\" value=\"0P00000AMY\"/></td><td style=\"text-align:Left;\"><a href=\"IN2424.aspx?txtYEAR=2019&amp;txtMONTH=01&amp;txtGROUPID=EUCA000500&amp;txtFundNo=0P00000AMY\" target=\"_blank\">景順大中華基金A股 美元</a></td><td style=\"text-align:Left;\"><a href=\"IN2424.aspx?txtYEAR=2019&amp;txtMONTH=01&amp;txtGROUPID=EUCA000500&amp;txtFundNo=0P00000AMY\" target=\"_blank\">Invesco Greater China Equity A USD Acc</a></td><td style=\"text-align:Left;\">5.94</td><td style=\"text-align:Left;\">3.62</td><td style=\"text-align:Left;\">-10.96</td><td style=\"text-align:Left;\">-15.47</td><td style=\"text-align:Left;\">21.39</td><td style=\"text-align:Left;\">51.05</td><td style=\"text-align:Left;\">38.41</td><td style=\"text-align:Left;\">5.94</td><td style=\"text-align:Left;\">223.19</td><td style=\"text-align:Left;\">14.31</td><td style=\"text-align:Left;\">0.95</td>\n",
      "</tr>\n"
     ]
    }
   ],
   "source": [
    "print(Trs[0])"
   ]
  },
  {
   "cell_type": "code",
   "execution_count": 3,
   "metadata": {},
   "outputs": [
    {
     "name": "stdout",
     "output_type": "stream",
     "text": [
      "<tr class=\"DTodd\">\n",
      "<td style=\"text-align:Center;\"><input id=\"MN0P00000AXX\" name=\"MN0P00000AXX\" onclick='SaveCheck(\"0P00000AXX\");' type=\"checkbox\" value=\"0P00000AXX\"/></td><td style=\"text-align:Left;\"><a href=\"IN2424.aspx?txtYEAR=2019&amp;txtMONTH=01&amp;txtGROUPID=EUCA000500&amp;txtFundNo=0P00000AXX\" target=\"_blank\">瑞銀 (盧森堡) 大中華股票基金 (美元)</a></td><td style=\"text-align:Left;\"><a href=\"IN2424.aspx?txtYEAR=2019&amp;txtMONTH=01&amp;txtGROUPID=EUCA000500&amp;txtFundNo=0P00000AXX\" target=\"_blank\">UBS (Lux) EF Greater China (USD) P</a></td><td style=\"text-align:Left;\">11.02</td><td style=\"text-align:Left;\">13.08</td><td style=\"text-align:Left;\">-5.19</td><td style=\"text-align:Left;\">-14.08</td><td style=\"text-align:Left;\">41.03</td><td style=\"text-align:Left;\">69.68</td><td style=\"text-align:Left;\">75.87</td><td style=\"text-align:Left;\">11.02</td><td style=\"text-align:Left;\">282.55</td><td style=\"text-align:Left;\">16.49</td><td style=\"text-align:Left;\">1.08</td>\n",
      "</tr>\n"
     ]
    }
   ],
   "source": [
    "print(Trs[1])"
   ]
  },
  {
   "cell_type": "code",
   "execution_count": null,
   "metadata": {},
   "outputs": [],
   "source": []
  },
  {
   "cell_type": "code",
   "execution_count": null,
   "metadata": {},
   "outputs": [],
   "source": []
  }
 ],
 "metadata": {
  "kernelspec": {
   "display_name": "Python 3",
   "language": "python",
   "name": "python3"
  },
  "language_info": {
   "codemirror_mode": {
    "name": "ipython",
    "version": 3
   },
   "file_extension": ".py",
   "mimetype": "text/x-python",
   "name": "python",
   "nbconvert_exporter": "python",
   "pygments_lexer": "ipython3",
   "version": "3.6.4"
  }
 },
 "nbformat": 4,
 "nbformat_minor": 2
}
